{
 "cells": [
  {
   "cell_type": "markdown",
   "id": "58a13fc0",
   "metadata": {},
   "source": [
    "# Foodie Recommender Data Model (V0.1)\n",
    "We'll choose a set of starter features and attempt to train a two-towered recommender system"
   ]
  },
  {
   "cell_type": "markdown",
   "id": "89b7cb29",
   "metadata": {},
   "source": [
    "## Data Models"
   ]
  },
  {
   "cell_type": "code",
   "execution_count": 30,
   "id": "24be2c66",
   "metadata": {},
   "outputs": [],
   "source": [
    "import dateutil\n",
    "from pydantic import BaseModel, validator\n",
    "import os\n",
    "from typing import Any, List\n",
    "\n",
    "import json\n",
    "\n",
    "\n",
    "genres = {}\n",
    "\n",
    "\n",
    "\n",
    "def save_model_data(model: BaseModel, filename: str) -> str:\n",
    "    with open(filename, 'w+') as file:\n",
    "        json.dump(model.json(), file)\n",
    "    return filename\n",
    "\n",
    "\n",
    "\n",
    "def create_empty_genres_file(filepath: str) -> None:\n",
    "    with open(filepath, 'w+') as file:\n",
    "        json.dump({}, file)\n",
    "    return {}\n",
    "        \n",
    "        \n",
    "\n",
    "def load_or_create_genres(genres_file='genres.json') -> dict:\n",
    "    if os.path.isfile(genres_file):\n",
    "        with open(genres_file, 'r') as file:\n",
    "            return json.load(file)\n",
    "    else:\n",
    "        print('file not found', genres_file)\n",
    "        return create_empty_genres_file(genres_file)\n",
    "\n",
    "\n",
    "    \n",
    "def save_genres(genres: dict, genres_file='genres.json') -> dict:\n",
    "    with open(genres_file, 'w+') as file:\n",
    "        json.dump(genres, file)\n",
    "    return genres\n",
    "\n",
    "    \n",
    "        \n",
    "def add_element_to_genres(element: str) -> int:\n",
    "    genres = load_or_create_genres()\n",
    "    dict_len = len(genres)\n",
    "    if element not in genres:\n",
    "        genres[element] = dict_len + 1\n",
    "        genres = save_genres(genres)\n",
    "    return genres[element]\n",
    "        \n",
    "        \n",
    "        \n",
    "def map_genre(genre_list: list) -> list:\n",
    "    tmp = []\n",
    "    for element in genre_list:\n",
    "        tmp.append(add_element_to_genres(element))\n",
    "    return tmp\n",
    "        \n",
    "\n",
    "    \n",
    "class RestaurantUser(BaseModel):\n",
    "    user_birth_date: int\n",
    "    user_genres: List[Any] = [0]\n",
    "    user_id: int\n",
    "    user_occupation: str\n",
    "    user_gender: bool  # 0: male, 1: female\n",
    "    user_zip_code: int\n",
    "    \n",
    "    \n",
    "    @validator('user_genres')\n",
    "    def index_or_add(cls, v):\n",
    "        assert len(v) > 0, 'Must provide list of genre > 0'\n",
    "        return map_genre(v)\n",
    "    \n",
    "    def save(self, prefix='user') -> None:\n",
    "        name = prefix + f\"_{self.user_id}.json\"\n",
    "        return save_model_data(self, name)\n",
    "\n",
    "    \n",
    "        \n",
    "class Restaurant(BaseModel):\n",
    "    restaurant_id: int\n",
    "    restaurant_title: str\n",
    "    restaurant_genres: List[Any]\n",
    "    restaurant_zip_code: int\n",
    "   \n",
    "    @validator('restaurant_genres')\n",
    "    def index_or_add(cls, v):\n",
    "        assert len(v) > 0, 'Must provide list of genre > 0'\n",
    "        return map_genre(v)\n",
    "        \n",
    "    def save(self, prefix='restaurant') -> str:\n",
    "        name = prefix + f\"_{self.restaurant_id}.json\"\n",
    "        return save_model_data(self, name)\n",
    "    \n",
    "    \n",
    "    \n",
    "class RestaurantRating(BaseModel):\n",
    "    user: RestaurantUser\n",
    "    restaurant: Restaurant\n",
    "    timestamp: int  # Converting all date/time to posix integer\n",
    "    restaurant_rating: int\n",
    "    \n",
    "    @validator('timestamp')\n",
    "    def convert_valid_time(cls, v: str):\n",
    "        pass\n",
    "    \n",
    "    def save(self, prefix='rating') -> str:\n",
    "        name = prefix + f\"_{self.restaurant}_{self.user}_{self.timestamp}.json\"\n",
    "        return save_model_data(self, name)\n",
    "    \n",
    "    def flatten(self) -> dict:\n",
    "        tmp = {\n",
    "            **self.user.dict(), **self.restaurant.dict(),\n",
    "            'timestamp': self.timestamp,\n",
    "            'restaurant_rating': self.restaurant_rating,\n",
    "        }\n",
    "        return tmp\n",
    "\n",
    "    \n",
    "    "
   ]
  },
  {
   "cell_type": "code",
   "execution_count": 31,
   "id": "106f9247",
   "metadata": {},
   "outputs": [],
   "source": [
    "# Create a test user\n",
    "user_profile = {\n",
    "    \"user_birth_date\": 20220101,\n",
    "    \"user_genres\": ['vegetarian', 'thai'],\n",
    "    \"user_id\": 1001,\n",
    "    \"user_occupation\": \"student\",\n",
    "    \"user_gender\": 0,  # 0: male, 1: female\n",
    "    \"user_zip_code\": 84104,\n",
    "}\n",
    "\n",
    "user = RestaurantUser(**user_profile)\n",
    "\n",
    "# Create a test restaurant\n",
    "restaurant_profile = {\n",
    "    \"restaurant_id\": 1,\n",
    "    \"restaurant_title\": \"skinnyfats\",\n",
    "    \"restaurant_genres\": ['vegetarian', 'thai', 'healthy', 'fried'],\n",
    "    \"restaurant_zip_code\": 84104,\n",
    "}\n",
    "\n",
    "restaurant = Restaurant(**restaurant_profile)\n",
    "\n",
    "# Create a test rating\n",
    "rating_profile = {\n",
    "    \"user\": user,\n",
    "    \"restaurant\": restaurant,\n",
    "    \"timestamp\": 202201012200,  # Converting all date/time to posix integer\n",
    "    \"restaurant_rating\": 10,\n",
    "}\n",
    "\n",
    "rating = RestaurantRating(**rating_profile)"
   ]
  },
  {
   "cell_type": "code",
   "execution_count": 35,
   "id": "004c7e56",
   "metadata": {},
   "outputs": [
    {
     "data": {
      "text/plain": [
       "{'user_birth_date': 20220101,\n",
       " 'user_genres': [1, 2],\n",
       " 'user_id': 1001,\n",
       " 'user_occupation': 'student',\n",
       " 'user_gender': False,\n",
       " 'user_zip_code': 84104,\n",
       " 'restaurant_id': 1,\n",
       " 'restaurant_title': 'skinnyfats',\n",
       " 'restaurant_genres': [1, 2, 3, 4],\n",
       " 'restaurant_zip_code': 84104,\n",
       " 'timestamp': None,\n",
       " 'restaurant_rating': 10}"
      ]
     },
     "execution_count": 35,
     "metadata": {},
     "output_type": "execute_result"
    }
   ],
   "source": [
    "# The rating object contains user and restaurant models \n",
    "# Here, we implement a helper fn flatten to make it an easier document to deal with\n",
    "rating.flatten()"
   ]
  },
  {
   "cell_type": "code",
   "execution_count": 37,
   "id": "60444f0a",
   "metadata": {},
   "outputs": [
    {
     "data": {
      "text/plain": [
       "{'user_birth_date': 20220101,\n",
       " 'user_genres': [1, 2],\n",
       " 'user_id': 1001,\n",
       " 'user_occupation': 'student',\n",
       " 'user_gender': False,\n",
       " 'user_zip_code': 84104}"
      ]
     },
     "execution_count": 37,
     "metadata": {},
     "output_type": "execute_result"
    }
   ],
   "source": [
    "# Our user model can output a dictionary as well with a direct call to the dict() method\n",
    "user.dict()"
   ]
  },
  {
   "cell_type": "markdown",
   "id": "88a35e82",
   "metadata": {},
   "source": [
    "## Convert to Tensorflow Dataset\n",
    "We'll now arbitrarily copy the data and create Tensorflow datasets to train new embeddigns models with"
   ]
  },
  {
   "cell_type": "code",
   "execution_count": null,
   "id": "07b8531e",
   "metadata": {},
   "outputs": [],
   "source": []
  },
  {
   "cell_type": "code",
   "execution_count": null,
   "id": "dc08d79d",
   "metadata": {},
   "outputs": [],
   "source": []
  },
  {
   "cell_type": "code",
   "execution_count": null,
   "id": "1dbc3e7d",
   "metadata": {},
   "outputs": [],
   "source": []
  },
  {
   "cell_type": "code",
   "execution_count": null,
   "id": "c2384b3d",
   "metadata": {},
   "outputs": [],
   "source": []
  }
 ],
 "metadata": {
  "kernelspec": {
   "display_name": "Python 3 (ipykernel)",
   "language": "python",
   "name": "python3"
  },
  "language_info": {
   "codemirror_mode": {
    "name": "ipython",
    "version": 3
   },
   "file_extension": ".py",
   "mimetype": "text/x-python",
   "name": "python",
   "nbconvert_exporter": "python",
   "pygments_lexer": "ipython3",
   "version": "3.9.12"
  }
 },
 "nbformat": 4,
 "nbformat_minor": 5
}
