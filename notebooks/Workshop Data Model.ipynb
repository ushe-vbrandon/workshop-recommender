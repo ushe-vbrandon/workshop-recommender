{
 "cells": [
  {
   "cell_type": "markdown",
   "id": "58a13fc0",
   "metadata": {},
   "source": [
    "# Foodie Recommender Data Model (V0.1)\n",
    "We'll choose a set of starter features and attempt to train a two-towered recommender system"
   ]
  },
  {
   "cell_type": "code",
   "execution_count": 4,
   "id": "3bc57d5f",
   "metadata": {},
   "outputs": [],
   "source": []
  },
  {
   "cell_type": "code",
   "execution_count": 15,
   "id": "24be2c66",
   "metadata": {},
   "outputs": [],
   "source": [
    "import dateutil\n",
    "from pydantic import BaseModel, validator\n",
    "from typing import Any, List\n",
    "\n",
    "import json\n",
    "\n",
    "\n",
    "genres = {}\n",
    "\n",
    "\n",
    "\n",
    "def save_model_data(model: BaseModel, filename: str):\n",
    "    with open(filename, 'w+') as file:\n",
    "        json.dump(model.json(), file)\n",
    "\n",
    "        \n",
    "\n",
    "def add_element_to_genres(element: str, genres: dict = genres) -> int:\n",
    "    dict_len = len(genres)\n",
    "    if element not in genres:\n",
    "        genres[element] = dict_len + 1\n",
    "    return genres[element]\n",
    "        \n",
    "        \n",
    "        \n",
    "def map_genre(genre_list: list) -> list:\n",
    "    tmp = []\n",
    "    for element in genre_list:\n",
    "        tmp.append(add_element_to_genres(element))\n",
    "    return tmp\n",
    "        \n",
    "\n",
    "    \n",
    "class RestaurantUser(BaseModel):\n",
    "    user_birth_date: int\n",
    "    user_genres: List[Any] = [0]\n",
    "    user_id: int\n",
    "    user_occupation: str\n",
    "    user_gender: bool  # 0: male, 1: female\n",
    "    user_zip_code: int\n",
    "    \n",
    "    \n",
    "    @validator('user_genres')\n",
    "    def index_or_add(cls, v):\n",
    "        assert len(v) > 0, 'Must provide list of genre > 0'\n",
    "        return map_genre(v)\n",
    "    \n",
    "    def save(self, name='users.json') -> None:\n",
    "        return save_model_data(self, name)\n",
    "\n",
    "    \n",
    "        \n",
    "class Restaurant(BaseModel):\n",
    "    restaurant_id: int\n",
    "    restaurant_title: str\n",
    "    restaurant_genres: List[Any]\n",
    "    restaurant_zip_code: int\n",
    "   \n",
    "    @validator('restaurant_genres')\n",
    "    def index_or_add(cls, v):\n",
    "        assert len(v) > 0, 'Must provide list of genre > 0'\n",
    "        return map_genre(v)\n",
    "        \n",
    "    def save(self, name='users.json') -> None:\n",
    "        return save_model_data(self, name)\n",
    "    \n",
    "    \n",
    "    \n",
    "class RestaurantRating(BaseModel):\n",
    "    user: RestaurantUser\n",
    "    restaurant: Restaurant\n",
    "    timestamp: int  # Converting all date/time to posix integer\n",
    "    restaurant_rating: int\n",
    "    \n",
    "    @validator('timestamp')\n",
    "    def convert_valid_time(cls, v: str):\n",
    "        pass\n",
    "    \n",
    "    def save(self, name='users.json') -> None:\n",
    "        return save_model_data(self, name)\n",
    "\n",
    "    \n",
    "    "
   ]
  },
  {
   "cell_type": "code",
   "execution_count": 18,
   "id": "106f9247",
   "metadata": {},
   "outputs": [],
   "source": [
    "# Create a test user\n",
    "user_profile = {\n",
    "    \"user_birth_date\": 20220101,\n",
    "    \"user_genres\": ['vegetarian', 'thai'],\n",
    "    \"user_id\": 1001,\n",
    "    \"user_occupation\": \"student\",\n",
    "    \"user_gender\": 0,  # 0: male, 1: female\n",
    "    \"user_zip_code\": 84104,\n",
    "}\n",
    "\n",
    "user = RestaurantUser(**user_profile)\n",
    "\n",
    "# Create a restaurant\n",
    "restaurant_profile"
   ]
  },
  {
   "cell_type": "code",
   "execution_count": 19,
   "id": "83227dfe",
   "metadata": {},
   "outputs": [
    {
     "data": {
      "text/plain": [
       "RestaurantUser(user_birth_date=20220101, user_genres=[1, 2], user_id=1001, user_occupation='student', user_gender=False, user_zip_code=84104)"
      ]
     },
     "execution_count": 19,
     "metadata": {},
     "output_type": "execute_result"
    }
   ],
   "source": [
    "user"
   ]
  },
  {
   "cell_type": "code",
   "execution_count": null,
   "id": "fa1f2181",
   "metadata": {},
   "outputs": [],
   "source": []
  }
 ],
 "metadata": {
  "kernelspec": {
   "display_name": "Python 3 (ipykernel)",
   "language": "python",
   "name": "python3"
  },
  "language_info": {
   "codemirror_mode": {
    "name": "ipython",
    "version": 3
   },
   "file_extension": ".py",
   "mimetype": "text/x-python",
   "name": "python",
   "nbconvert_exporter": "python",
   "pygments_lexer": "ipython3",
   "version": "3.9.12"
  }
 },
 "nbformat": 4,
 "nbformat_minor": 5
}
